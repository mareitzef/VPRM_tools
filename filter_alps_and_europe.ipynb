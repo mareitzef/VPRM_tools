{
 "cells": [
  {
   "cell_type": "code",
   "execution_count": null,
   "metadata": {},
   "outputs": [],
   "source": [
    "import pandas as pd\n",
    "\n",
    "# Read the CSV file into DataFrame\n",
    "df_sites = pd.read_csv(\"site_info_original.csv\")\n",
    "\n",
    "\n",
    "# for the Alps\n",
    "min_lat = 44\n",
    "max_lat = 50\n",
    "min_lon = 5\n",
    "max_lon = 17\n",
    "\n",
    "# Filter the DataFrame based on latitude and longitude ranges\n",
    "sites_alps = df_sites[\n",
    "    (df_sites['lat'] >= min_lat) & \n",
    "    (df_sites['lat'] <= max_lat) & \n",
    "    (df_sites['lon'] >= min_lon) & \n",
    "    (df_sites['lon'] <= max_lon)\n",
    "]\n",
    "\n",
    "# Define the latitude and longitude ranges for europe\n",
    "min_lat = 34\n",
    "max_lat = 71\n",
    "min_lon = -12\n",
    "max_lon = 35\n",
    "\n",
    "sites_europe = df_sites[\n",
    "    (df_sites['lat'] >= min_lat) & \n",
    "    (df_sites['lat'] <= max_lat) & \n",
    "    (df_sites['lon'] >= min_lon) & \n",
    "    (df_sites['lon'] <= max_lon)\n",
    "]\n",
    "sites_europe = sites_europe[~sites_europe['site'].isin(sites_alps['site'])]\n",
    "sites_europe = sites_europe.reset_index(drop=True)\n",
    "\n",
    "sites_europe.to_csv(\"site_info_europe.csv\", index=False)\n",
    "sites_europe"
   ]
  },
  {
   "cell_type": "code",
   "execution_count": null,
   "metadata": {},
   "outputs": [],
   "source": [
    "# import os\n",
    "# import zipfile\n",
    "# import fnmatch\n",
    "\n",
    "# # Define the source directory where the ZIP files are located\n",
    "# source_directory = \"/media/madse/scratch/FLUXNET_data/therest/\"\n",
    "\n",
    "# # Define the destination directory where you want to extract the files\n",
    "# destination_parent_directory = \"/home/madse/Downloads/Fluxnet_Data/Europe/\"\n",
    "\n",
    "# # Iterate over each site in sites_europe and extract the corresponding ZIP file\n",
    "# for site_id in sites_europe['site']:\n",
    "#     zip_files = fnmatch.filter(os.listdir(source_directory), f\"FLX_*{site_id}*.zip\")\n",
    "#     if zip_files:\n",
    "#         for zip_file in zip_files:\n",
    "#             zip_file_path = os.path.join(source_directory, zip_file)\n",
    "#             destination_directory = os.path.join(destination_parent_directory, os.path.splitext(zip_file)[0])\n",
    "#             os.makedirs(destination_directory, exist_ok=True)\n",
    "#             with zipfile.ZipFile(zip_file_path, 'r') as zip_ref:\n",
    "#                 zip_ref.extractall(destination_directory)\n",
    "#     else:\n",
    "#         print(f\"ZIP file for site {site_id} not found.\")\n"
   ]
  }
 ],
 "metadata": {
  "kernelspec": {
   "display_name": "base",
   "language": "python",
   "name": "python3"
  },
  "language_info": {
   "codemirror_mode": {
    "name": "ipython",
    "version": 3
   },
   "file_extension": ".py",
   "mimetype": "text/x-python",
   "name": "python",
   "nbconvert_exporter": "python",
   "pygments_lexer": "ipython3",
   "version": "3.10.9"
  }
 },
 "nbformat": 4,
 "nbformat_minor": 2
}
